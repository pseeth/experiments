{
 "cells": [
  {
   "cell_type": "code",
   "execution_count": 1,
   "metadata": {},
   "outputs": [],
   "source": [
    "import os\n",
    "import sys\n",
    "module_path = os.path.abspath(os.path.join('..'))\n",
    "if module_path not in sys.path:\n",
    "    sys.path.append(module_path)"
   ]
  },
  {
   "cell_type": "code",
   "execution_count": 11,
   "metadata": {},
   "outputs": [
    {
     "name": "stdout",
     "output_type": "stream",
     "text": [
      "000000.pth  000001.pth\n"
     ]
    }
   ],
   "source": [
    "ls /pipeline/data/generated/musdb/validation/cache/psa/magnitude/"
   ]
  },
  {
   "cell_type": "code",
   "execution_count": 2,
   "metadata": {},
   "outputs": [
    {
     "name": "stderr",
     "output_type": "stream",
     "text": [
      "/opt/conda/lib/python3.6/site-packages/jams/core.py:1852: FutureWarning: pandas.tslib is deprecated and will be removed in a future version.\n",
      "You can access Timedelta as pandas.Timedelta\n",
      "  if isinstance(obj, pd.tslib.Timedelta):\n"
     ]
    },
    {
     "data": {
      "text/plain": [
       "(400, 1025, 1)"
      ]
     },
     "execution_count": 2,
     "metadata": {},
     "output_type": "execute_result"
    }
   ],
   "source": [
    "from importlib import reload\n",
    "import datasets\n",
    "reload(datasets)\n",
    "\n",
    "dset = datasets.Scaper(folder='/pipeline/data/generated/musdb/validation/', options={'n_fft': 2048, 'hop_length': 512})\n",
    "dset[1]['log_spectrogram'].shape\n",
    "dset[0]['log_spectrogram'].shape"
   ]
  },
  {
   "cell_type": "code",
   "execution_count": 4,
   "metadata": {},
   "outputs": [
    {
     "data": {
      "text/plain": [
       "(400, 1025, 1)"
      ]
     },
     "execution_count": 4,
     "metadata": {},
     "output_type": "execute_result"
    }
   ],
   "source": [
    "dset[0]['weights'].shape"
   ]
  },
  {
   "cell_type": "code",
   "execution_count": 14,
   "metadata": {},
   "outputs": [
    {
     "data": {
      "text/plain": [
       "{'n_fft': 512,\n",
       " 'hop_length': 128,\n",
       " 'length': 400,\n",
       " 'sample_rate': None,\n",
       " 'output_type': 'psa',\n",
       " 'cache': True,\n",
       " 'fraction_of_dataset': 1.0,\n",
       " 'weight_type': 'magnitude',\n",
       " 'num_channels': 1,\n",
       " 'group_sources': [],\n",
       " 'source_labels': [],\n",
       " 'ignore_sources': []}"
      ]
     },
     "execution_count": 14,
     "metadata": {},
     "output_type": "execute_result"
    }
   ],
   "source": [
    "dset.options"
   ]
  },
  {
   "cell_type": "code",
   "execution_count": 5,
   "metadata": {},
   "outputs": [],
   "source": [
    "from importlib import reload\n",
    "import datasets\n",
    "reload(datasets)\n",
    "\n",
    "dset = datasets.WSJ(folder='/datasets/wsj0-mix/2speakers_anechoic/wav8k/min/tr/')\n",
    "dset[100]['log_spectrogram'].shape"
   ]
  }
 ],
 "metadata": {
  "kernelspec": {
   "display_name": "Python 3",
   "language": "python",
   "name": "python3"
  },
  "language_info": {
   "codemirror_mode": {
    "name": "ipython",
    "version": 3
   },
   "file_extension": ".py",
   "mimetype": "text/x-python",
   "name": "python",
   "nbconvert_exporter": "python",
   "pygments_lexer": "ipython3",
   "version": "3.7.1"
  }
 },
 "nbformat": 4,
 "nbformat_minor": 2
}
